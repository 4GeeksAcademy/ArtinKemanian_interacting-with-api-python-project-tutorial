{
    "cells": [
        {
            "cell_type": "code",
            "execution_count": 3,
            "metadata": {},
            "outputs": [],
            "source": [
                "import os\n",
                "import spotipy\n",
                "import pandas as pd\n",
                "import seaborn as sns\n",
                "from spotipy.oauth2 import SpotifyClientCredentials\n",
                "from dotenv import load_dotenv\n",
                "load_dotenv()\n",
                "\n",
                "\n",
                "client_id = os.environ.get(\"SPOTIPY_CLIENT_ID\")\n",
                "client_secret = os.environ.get(\"SPOTIPY_CLIENT_SECRET\")\n",
                "\n",
                "\n",
                "lz_uri = 'spotify:artist:2IMZYfNi21MGqxopj9fWx8'\n",
                "\n",
                "spotify = spotipy.Spotify(client_credentials_manager=SpotifyClientCredentials())\n",
                "results = spotify.artist_top_tracks(lz_uri)"
            ]
        },
        {
            "cell_type": "code",
            "execution_count": 29,
            "metadata": {},
            "outputs": [],
            "source": [
                "def segundos_minutos(segundos):\n",
                "    horas = int(segundos / 60 / 60)\n",
                "    segundos -= horas*60*60\n",
                "    minutos = int(segundos/60)\n",
                "    segundos -= minutos*60\n",
                "    return f\"{minutos}:{segundos}\""
            ]
        },
        {
            "cell_type": "code",
            "execution_count": 5,
            "metadata": {},
            "outputs": [
                {
                    "name": "stdout",
                    "output_type": "stream",
                    "text": [
                        "Nombre de la canción: cómo dormiste?, popularidad: 84, duración: 01:53 minutos.\n",
                        "Nombre de la canción: A Mí, popularidad: 83, duración: 03:30 minutos.\n",
                        "Nombre de la canción: Un Rodeoooo, popularidad: 79, duración: 02:16 minutos.\n",
                        "Nombre de la canción: lo que hay x aquí, popularidad: 82, duración: 02:35 minutos.\n",
                        "Nombre de la canción: qué le pasa conmigo?, popularidad: 78, duración: 02:47 minutos.\n",
                        "Nombre de la canción: Me Gustas Natural, popularidad: 80, duración: 02:50 minutos.\n",
                        "Nombre de la canción: Mi Luz (ft. Rels B), popularidad: 79, duración: 02:48 minutos.\n",
                        "Nombre de la canción: miamor, popularidad: 68, duración: 02:39 minutos.\n",
                        "Nombre de la canción: pa quererte, popularidad: 78, duración: 02:47 minutos.\n",
                        "Nombre de la canción: La Última Canción, popularidad: 77, duración: 03:05 minutos.\n"
                    ]
                }
            ],
            "source": [
                "top_track = []\n",
                "\n",
                "for track in results['tracks'][:10]:\n",
                "    duracion = round(track['duration_ms']/1000)\n",
                "\n",
                "    top_track.append(dict(track))\n",
                "\n",
                "    print(f\"Nombre de la canción: {track['name']}, popularidad: {track['popularity']}, duración: {segundos_minutos(duracion)} minutos.\")\n"
            ]
        },
        {
            "cell_type": "code",
            "execution_count": 73,
            "metadata": {},
            "outputs": [
                {
                    "data": {
                        "text/html": [
                            "<div>\n",
                            "<style scoped>\n",
                            "    .dataframe tbody tr th:only-of-type {\n",
                            "        vertical-align: middle;\n",
                            "    }\n",
                            "\n",
                            "    .dataframe tbody tr th {\n",
                            "        vertical-align: top;\n",
                            "    }\n",
                            "\n",
                            "    .dataframe thead th {\n",
                            "        text-align: right;\n",
                            "    }\n",
                            "</style>\n",
                            "<table border=\"1\" class=\"dataframe\">\n",
                            "  <thead>\n",
                            "    <tr style=\"text-align: right;\">\n",
                            "      <th></th>\n",
                            "      <th>name</th>\n",
                            "      <th>popularity</th>\n",
                            "      <th>duracion_min</th>\n",
                            "    </tr>\n",
                            "  </thead>\n",
                            "  <tbody>\n",
                            "    <tr>\n",
                            "      <th>0</th>\n",
                            "      <td>cómo dormiste?</td>\n",
                            "      <td>84</td>\n",
                            "      <td>1:53.0</td>\n",
                            "    </tr>\n",
                            "    <tr>\n",
                            "      <th>1</th>\n",
                            "      <td>A Mí</td>\n",
                            "      <td>83</td>\n",
                            "      <td>3:30.0</td>\n",
                            "    </tr>\n",
                            "    <tr>\n",
                            "      <th>3</th>\n",
                            "      <td>lo que hay x aquí</td>\n",
                            "      <td>82</td>\n",
                            "      <td>2:35.0</td>\n",
                            "    </tr>\n",
                            "    <tr>\n",
                            "      <th>5</th>\n",
                            "      <td>Me Gustas Natural</td>\n",
                            "      <td>80</td>\n",
                            "      <td>2:50.0</td>\n",
                            "    </tr>\n",
                            "    <tr>\n",
                            "      <th>2</th>\n",
                            "      <td>Un Rodeoooo</td>\n",
                            "      <td>79</td>\n",
                            "      <td>2:16.0</td>\n",
                            "    </tr>\n",
                            "  </tbody>\n",
                            "</table>\n",
                            "</div>"
                        ],
                        "text/plain": [
                            "                name  popularity duracion_min\n",
                            "0     cómo dormiste?          84       1:53.0\n",
                            "1               A Mí          83       3:30.0\n",
                            "3  lo que hay x aquí          82       2:35.0\n",
                            "5  Me Gustas Natural          80       2:50.0\n",
                            "2        Un Rodeoooo          79       2:16.0"
                        ]
                    },
                    "execution_count": 73,
                    "metadata": {},
                    "output_type": "execute_result"
                }
            ],
            "source": [
                "df = pd.DataFrame(top_track, columns=['name', 'popularity', 'duration_ms'])\n",
                "df['duration_ms'] = (df['duration_ms']/1000).round()\n",
                "df['duracion_min'] = df.duration_ms.apply(segundos_minutos)\n",
                "df_ordenado = df.sort_values('popularity',ascending=False).head()\n",
                "\n",
                "df_final = pd.DataFrame(df_ordenado,columns=['name', 'popularity', 'duracion_min'])\n",
                "\n",
                "df_final\n",
                "\n"
            ]
        },
        {
            "cell_type": "code",
            "execution_count": 72,
            "metadata": {},
            "outputs": [
                {
                    "name": "stdout",
                    "output_type": "stream",
                    "text": [
                        "A mayor duración de la canción menor es su popularidad en este caso\n"
                    ]
                },
                {
                    "data": {
                        "image/png": "[encoded data removed]",
                        "text/plain": [
                            "<Figure size 640x480 with 1 Axes>"
                        ]
                    },
                    "metadata": {},
                    "output_type": "display_data"
                }
            ],
            "source": [
                "scatter_plot = sns.scatterplot(data = df_final, x= df_final['duracion_min'] , y = df_final['popularity'])\n",
                "fig = scatter_plot.get_figure()\n",
                "fig.savefig(\"scatter_plot.png\")\n",
                "print('A mayor duración de la canción menor es su popularidad en este caso')"
            ]
        }
    ],
    "metadata": {
        "kernelspec": {
            "display_name": "Python 3.8.13 64-bit ('3.8.13')",
            "language": "python",
            "name": "python3"
        },
        "language_info": {
            "codemirror_mode": {
                "name": "ipython",
                "version": 3
            },
            "file_extension": ".py",
            "mimetype": "text/x-python",
            "name": "python",
            "nbconvert_exporter": "python",
            "pygments_lexer": "ipython3",
            "version": "3.11.4"
        },
        "orig_nbformat": 4,
        "vscode": {
            "interpreter": {
                "hash": "110cc1dee26208153f2972f08a2ad52b6a56238dc66d48e87fb757ef2996db56"
            }
        }
    },
    "nbformat": 4,
    "nbformat_minor": 2
}
